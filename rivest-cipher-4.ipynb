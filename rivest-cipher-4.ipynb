{
 "cells": [
  {
   "attachments": {},
   "cell_type": "markdown",
   "metadata": {},
   "source": [
    "# **RC4**\n",
    "\n",
    "Rivest Cipher 4 es un algoritmo de cifrado de flujo de clave simétrica diseñado por Ron Rivest en el 87. Era muy famoso por ser muy simple y fácil a nivel de software por lo que encontró aplicación en una amplia variedad de criptosistemas como SSL/ TLS, WEP y WPA2. Sin embargo, estas ventajas tienen costos en términos de que su seguridad se ve reducida, por lo que rápidamente se encontraron varias vulnerabilidades, especialmente cuando el comienzo del flujo de clave de salida no se descarta, o cuando se utilizan claves no aleatorias o relacionadas. Esto llevó al IETF a prohibir el uso de RC4 en TLS(protocolo utilizado para proporcionar confidencialidad e integridad a los datos en redes no confiables) en el 2015.\n",
    "\n",
    "RC4 por ser un algoritmo de cifrado de flujo genera una secuencia de bits pseudoaleatorios. Estos bits se combinan con el texto plano mediante la operación XOR para generar el texto cifrado. El proceso de descifrado se hace de la misma manera, ya que el XOR es una involución.\n",
    "\n",
    "### **¿Cómo se genera la secuencia de bits pseudoaleatoria?**\n",
    "\n",
    "Técnicamente, RC4 consta de dos algoritmos, un algoritmo de programación de clave (KSA, Key Scheduling Algorithm) y un algoritmo de generación pseudo-aleatoria (PRGA, Pseudo-Random Generation Algorithm). El KSA toma como entrada una clave K de longitud variable, típicamente entre 40 y 256 bits y produce el estado interno inicial st0 = (i, j, S), donde S es la representación canónica de una permutación del conjunto [0, 255] como un arreglo de bytes, e 'i, j' son ínidces en este arreglo. El PRGA, dado un estado interno str, produce el siguiente byte de la secuencia de clave Zr+1, junto con el estado interno actualizado str+1. Es importante destacar que el índice 'j' actualizado se calcula en función de los ínidces 'i, j y S' actuales, mientras que i es simplemente un contador (módulo 256).\n",
    "\n",
    "<div align = \"center\">\n",
    "    <img src = Images/Flowchart-of-RC4-Algorithm.png width = 35%>\n",
    "    <p>Algoritmo de RC4</p>\n",
    "</div>\n",
    "\n",
    "### **Key Scheduling Algorithm (KSA)**\n",
    "```pseudo\n",
    "    for i from 0 to 255\n",
    "        S[i] := i\n",
    "    endfor\n",
    "    j := 0\n",
    "    for i from 0 to 255\n",
    "        j := (j + S[i] + key[i mod keylenght]) mod 256\n",
    "        swap values of S[i] and S[j]\n",
    "    endfor\n",
    "```\n",
    "- El KSA se utiliza para inicializar la matriz 'S' en la permutación de identidad\n",
    "- Posteriormente, se procesa 'S' durante 256 iteraciones de manera similar a la PRGA principal, pero también se mezclan bytes de la clave al mismo tiempo.\n",
    "- 'keylenght' se define como el número de bytes en la clave y su rango es 1 ≤ keylength ≤ 256.\n",
    "\n",
    "**Implementación en Python:**"
   ]
  },
  {
   "cell_type": "code",
   "execution_count": 25,
   "metadata": {},
   "outputs": [],
   "source": [
    "#KSA\n",
    "def KSA(k): # Input: key K of l bytes\n",
    "    # Inicialización de la matriz 's' en la permutación identidad\n",
    "    s = list(range(256))\n",
    "    # Valor inicial del índice 'j'\n",
    "    j = 0\n",
    "    # Procesamiento de 's' durante 256 iteraciones y mezcla de bytes\n",
    "    for i in range (0, 256):\n",
    "        j = (j + s[i] + k[i % len(k)]) % 256\n",
    "        s[i], s[j] = s[j], s[i] #swap\n",
    "    return s # Output: estado interno st0"
   ]
  },
  {
   "attachments": {},
   "cell_type": "markdown",
   "metadata": {},
   "source": [
    "### **Pseudo-random Generation Algorithm (PRGA)**\n",
    "\n",
    "```pseudo\n",
    "   i := 0\n",
    "   j := 0\n",
    "   while GeneratingOutput:\n",
    "      i := (i + 1) mod 256\n",
    "      j := (j + S[i]) mod 256\n",
    "      swap values of S[i] and S[j]\n",
    "      K := S[(S[i] + S[j]) mod 256]\n",
    "      output K\n",
    "   endwhile\n",
    "```\n",
    "- El byte de salida se selecciona buscando los valores S(i) y S(j), sumándolos módulo 256, el resultado se utiliza como ínice en 'S' y el byte en esa posición será parte de la secuencia pseudoaleatoria.\n",
    "\n",
    "**Implementación en Python**"
   ]
  },
  {
   "cell_type": "code",
   "execution_count": 26,
   "metadata": {},
   "outputs": [],
   "source": [
    "#PRGA\n",
    "def PRGA(s):\n",
    "    # Valor inicial de los índices\n",
    "    i = 0\n",
    "    j = 0\n",
    "    while True:\n",
    "        i = (i + 1) % 256\n",
    "        j = (j + s[i]) % 256\n",
    "        s[i], s[j] = s[j], s[i] # swap\n",
    "        K = s[(s[i] + s[j]) % 256]\n",
    "        yield K # devuelve el valor de K y pausa temporalmente su ejecución"
   ]
  },
  {
   "attachments": {},
   "cell_type": "markdown",
   "metadata": {},
   "source": [
    "### **Test Vectors**\n",
    "\n",
    "Los siguientes vectores de prueba se utilizarán para verificar la funcionalidad de la implementación de RC4. Las 'keys' y 'plaintext' están en ASCII, el 'keystream' y 'ciphertext' están en hexadecimal.\n",
    "\n",
    "<div align = \"center\">\n",
    "    <img src = Images/test-vectors.png></img>\n",
    "</div>\n",
    "\n",
    "#### **RC4 en Python**"
   ]
  },
  {
   "cell_type": "code",
   "execution_count": 27,
   "metadata": {},
   "outputs": [],
   "source": [
    "def RC4_algorithm (key, plaintext):\n",
    "    # Inicializamos el estado interno de 's'\n",
    "    s = KSA(key)\n",
    "    # Genera la secuencia pseudoaleatoria\n",
    "    keystream = PRGA(s)\n",
    "    # Ciframos el mensaje combinando cada byte del mensaje con el siguiente byte en la secuencia pseudoaleatoria\n",
    "    ciphertext = bytes([p ^ next(keystream) for p in plaintext])\n",
    "    return ciphertext.hex().upper()"
   ]
  },
  {
   "attachments": {},
   "cell_type": "markdown",
   "metadata": {},
   "source": [
    "- **Input Key** = Key\n",
    "- **Plaintext** = Plaintext\n",
    "- **Ciphertext** = BBF316E8D940AF0AD3"
   ]
  },
  {
   "cell_type": "code",
   "execution_count": 28,
   "metadata": {},
   "outputs": [
    {
     "name": "stdout",
     "output_type": "stream",
     "text": [
      "Pass! Resultado: BBF316E8D940AF0AD3\n"
     ]
    }
   ],
   "source": [
    "key1 = \"Key\".encode('utf=8')\n",
    "text1 = \"Plaintext\".encode('utf-8')\n",
    "\n",
    "assert RC4_algorithm(key1, text1) == 'BBF316E8D940AF0AD3'\n",
    "\n",
    "print(\"El texto cifrado es el esperado\", RC4_algorithm(key1, text1))"
   ]
  }
 ],
 "metadata": {
  "kernelspec": {
   "display_name": "Python 3",
   "language": "python",
   "name": "python3"
  },
  "language_info": {
   "codemirror_mode": {
    "name": "ipython",
    "version": 3
   },
   "file_extension": ".py",
   "mimetype": "text/x-python",
   "name": "python",
   "nbconvert_exporter": "python",
   "pygments_lexer": "ipython3",
   "version": "3.11.2"
  },
  "orig_nbformat": 4
 },
 "nbformat": 4,
 "nbformat_minor": 2
}
